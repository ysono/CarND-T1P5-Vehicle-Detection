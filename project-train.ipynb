{
 "cells": [
  {
   "cell_type": "code",
   "execution_count": 24,
   "metadata": {},
   "outputs": [],
   "source": [
    "import cv2\n",
    "import glob\n",
    "import numpy as np\n",
    "import pickle\n",
    "import scipy.stats\n",
    "import skimage.feature\n",
    "import sklearn.model_selection\n",
    "import sklearn.preprocessing\n",
    "import sklearn.svm"
   ]
  },
  {
   "cell_type": "code",
   "execution_count": 12,
   "metadata": {},
   "outputs": [],
   "source": [
    "def image_to_hog_features(img_bgr):\n",
    "    img_hls = cv2.cvtColor(img_bgr, cv2.COLOR_BGR2HLS)\n",
    "    img_lch = img_hls[:,:,1]\n",
    "    img_sch = img_hls[:,:,2]\n",
    "    \n",
    "    hog_lch, hog_sch = [\n",
    "        skimage.feature.hog(\n",
    "            ch,\n",
    "            orientations=9,\n",
    "            pixels_per_cell=(8, 8),\n",
    "            cells_per_block=(2, 2),\n",
    "            transform_sqrt=True,\n",
    "            visualise=False,\n",
    "            feature_vector=True, # Do flatten features.\n",
    "            block_norm='L2-Hys')\n",
    "        for ch in [img_lch, img_sch]]\n",
    "    \n",
    "    return np.concatenate((hog_lch, hog_sch))"
   ]
  },
  {
   "cell_type": "code",
   "execution_count": 14,
   "metadata": {},
   "outputs": [],
   "source": [
    "car_paths = glob.glob('working_dir/vehicles_smallset/**/*')\n",
    "noncar_paths = glob.glob('working_dir/non-vehicles_smallset/**/*')\n",
    "\n",
    "car_features = [image_to_hog_features(cv2.imread(path)) for path in car_paths]\n",
    "noncar_features = [image_to_hog_features(cv2.imread(path)) for path in noncar_paths]"
   ]
  },
  {
   "cell_type": "code",
   "execution_count": 17,
   "metadata": {},
   "outputs": [],
   "source": [
    "X = np.vstack((car_features, noncar_features)).astype(np.float64)\n",
    "assert X.shape[1:] == (14 * 7 * 2 * 2 * 9,)\n",
    "\n",
    "X_scaler = sklearn.preprocessing.StandardScaler().fit(X)\n",
    "scaled_X = X_scaler.transform(X)\n",
    "\n",
    "y = np.hstack((np.ones(len(car_features)), np.zeros(len(noncar_features))))\n",
    "\n",
    "X_train, X_test, y_train, y_test = sklearn.model_selection.train_test_split(\n",
    "    scaled_X, y, test_size=0.2)"
   ]
  },
  {
   "cell_type": "code",
   "execution_count": 20,
   "metadata": {},
   "outputs": [
    {
     "data": {
      "text/plain": [
       "0.91397849462365588"
      ]
     },
     "execution_count": 20,
     "metadata": {},
     "output_type": "execute_result"
    }
   ],
   "source": [
    "# svc = sklearn.svm.LinearSVC()\n",
    "# svc.fit(X_train, y_train)\n",
    "# svc.score(X_test, y_test)"
   ]
  },
  {
   "cell_type": "code",
   "execution_count": 25,
   "metadata": {},
   "outputs": [
    {
     "data": {
      "text/plain": [
       "RandomizedSearchCV(cv=None, error_score='raise',\n",
       "          estimator=SVC(C=1.0, cache_size=200, class_weight=None, coef0=0.0,\n",
       "  decision_function_shape='ovr', degree=3, gamma='auto', kernel='rbf',\n",
       "  max_iter=-1, probability=False, random_state=None, shrinking=True,\n",
       "  tol=0.001, verbose=False),\n",
       "          fit_params=None, iid=True, n_iter=10, n_jobs=1,\n",
       "          param_distributions={'C': <scipy.stats._distn_infrastructure.rv_frozen object at 0x12407c7f0>, 'gamma': <scipy.stats._distn_infrastructure.rv_frozen object at 0x12407cc18>, 'kernel': ['rbf'], 'class_weight': ['balanced', None]},\n",
       "          pre_dispatch='2*n_jobs', random_state=None, refit=True,\n",
       "          return_train_score='warn', scoring=None, verbose=0)"
      ]
     },
     "execution_count": 25,
     "metadata": {},
     "output_type": "execute_result"
    }
   ],
   "source": [
    "grid_search_params = {'C': scipy.stats.expon(scale=100), 'gamma': scipy.stats.expon(scale=.1),\n",
    "  'kernel': ['rbf'], 'class_weight':['balanced', None]}\n",
    "clf = sklearn.model_selection.RandomizedSearchCV(sklearn.svm.SVC(), grid_search_params)\n",
    "clf.fit(X_train, y_train)"
   ]
  },
  {
   "cell_type": "code",
   "execution_count": 26,
   "metadata": {},
   "outputs": [
    {
     "data": {
      "text/plain": [
       "{'C': 45.379942882185325,\n",
       " 'class_weight': 'balanced',\n",
       " 'gamma': 0.0041731726747204975,\n",
       " 'kernel': 'rbf'}"
      ]
     },
     "execution_count": 26,
     "metadata": {},
     "output_type": "execute_result"
    }
   ],
   "source": [
    "clf.best_params_"
   ]
  },
  {
   "cell_type": "code",
   "execution_count": 27,
   "metadata": {},
   "outputs": [
    {
     "data": {
      "text/plain": [
       "0.967741935483871"
      ]
     },
     "execution_count": 27,
     "metadata": {},
     "output_type": "execute_result"
    }
   ],
   "source": [
    "clf.score(X_test, y_test)"
   ]
  },
  {
   "cell_type": "code",
   "execution_count": 28,
   "metadata": {},
   "outputs": [],
   "source": [
    "with open('working_dir/training_result.p', 'wb') as f:\n",
    "    training_result = {\n",
    "        clf: clf # TODO fix the pickle\n",
    "    }\n",
    "    pickle.dump(training_result, f)"
   ]
  },
  {
   "cell_type": "code",
   "execution_count": null,
   "metadata": {},
   "outputs": [],
   "source": []
  }
 ],
 "metadata": {
  "kernelspec": {
   "display_name": "carnd-term1",
   "language": "python",
   "name": "carnd-term1"
  },
  "language_info": {
   "codemirror_mode": {
    "name": "ipython",
    "version": 3
   },
   "file_extension": ".py",
   "mimetype": "text/x-python",
   "name": "python",
   "nbconvert_exporter": "python",
   "pygments_lexer": "ipython3",
   "version": "3.5.2"
  },
  "widgets": {
   "state": {},
   "version": "1.1.2"
  }
 },
 "nbformat": 4,
 "nbformat_minor": 2
}
